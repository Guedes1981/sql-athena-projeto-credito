{
  "nbformat": 4,
  "nbformat_minor": 0,
  "metadata": {
    "colab": {
      "provenance": [],
      "authorship_tag": "ABX9TyM0arbkT8OLg7BKuh3DRzLt",
      "include_colab_link": true
    },
    "kernelspec": {
      "name": "python3",
      "display_name": "Python 3"
    },
    "language_info": {
      "name": "python"
    }
  },
  "cells": [
    {
      "cell_type": "markdown",
      "metadata": {
        "id": "view-in-github",
        "colab_type": "text"
      },
      "source": [
        "<a href=\"https://colab.research.google.com/github/Guedes1981/sql-athena-projeto-credito/blob/main/Projeto_ada_brasileirao.ipynb\" target=\"_parent\"><img src=\"https://colab.research.google.com/assets/colab-badge.svg\" alt=\"Open In Colab\"/></a>"
      ]
    },
    {
      "cell_type": "markdown",
      "source": [
        "# **Projeto: Descobrindo técnicos do Brasileirão**"
      ],
      "metadata": {
        "id": "rl_QQkjFcVlY"
      }
    },
    {
      "cell_type": "markdown",
      "source": [
        "# Desafio\n",
        "Dado um arquivo, do tipo JSON, contendo uma infinidade de informações de cada jogo do Brasileirão de 2023, extrair e mostrar todos os técnicos que estiverem presentes nos jogos."
      ],
      "metadata": {
        "id": "0ynVrhppea7S"
      }
    },
    {
      "cell_type": "code",
      "execution_count": 2,
      "metadata": {
        "id": "eJ8uaPCPhdmc"
      },
      "outputs": [],
      "source": [
        "from google.colab import files\n"
      ]
    },
    {
      "cell_type": "code",
      "source": [
        "uploaded = files.upload()\n"
      ],
      "metadata": {
        "colab": {
          "base_uri": "https://localhost:8080/",
          "height": 73
        },
        "id": "4_ECnIuzhl7I",
        "outputId": "cd9475b5-2413-407d-9304-e9407e62f792"
      },
      "execution_count": 3,
      "outputs": [
        {
          "output_type": "display_data",
          "data": {
            "text/plain": [
              "<IPython.core.display.HTML object>"
            ],
            "text/html": [
              "\n",
              "     <input type=\"file\" id=\"files-f3bf2a2b-b8e6-4764-8eda-8abfc7c73f88\" name=\"files[]\" multiple disabled\n",
              "        style=\"border:none\" />\n",
              "     <output id=\"result-f3bf2a2b-b8e6-4764-8eda-8abfc7c73f88\">\n",
              "      Upload widget is only available when the cell has been executed in the\n",
              "      current browser session. Please rerun this cell to enable.\n",
              "      </output>\n",
              "      <script>// Copyright 2017 Google LLC\n",
              "//\n",
              "// Licensed under the Apache License, Version 2.0 (the \"License\");\n",
              "// you may not use this file except in compliance with the License.\n",
              "// You may obtain a copy of the License at\n",
              "//\n",
              "//      http://www.apache.org/licenses/LICENSE-2.0\n",
              "//\n",
              "// Unless required by applicable law or agreed to in writing, software\n",
              "// distributed under the License is distributed on an \"AS IS\" BASIS,\n",
              "// WITHOUT WARRANTIES OR CONDITIONS OF ANY KIND, either express or implied.\n",
              "// See the License for the specific language governing permissions and\n",
              "// limitations under the License.\n",
              "\n",
              "/**\n",
              " * @fileoverview Helpers for google.colab Python module.\n",
              " */\n",
              "(function(scope) {\n",
              "function span(text, styleAttributes = {}) {\n",
              "  const element = document.createElement('span');\n",
              "  element.textContent = text;\n",
              "  for (const key of Object.keys(styleAttributes)) {\n",
              "    element.style[key] = styleAttributes[key];\n",
              "  }\n",
              "  return element;\n",
              "}\n",
              "\n",
              "// Max number of bytes which will be uploaded at a time.\n",
              "const MAX_PAYLOAD_SIZE = 100 * 1024;\n",
              "\n",
              "function _uploadFiles(inputId, outputId) {\n",
              "  const steps = uploadFilesStep(inputId, outputId);\n",
              "  const outputElement = document.getElementById(outputId);\n",
              "  // Cache steps on the outputElement to make it available for the next call\n",
              "  // to uploadFilesContinue from Python.\n",
              "  outputElement.steps = steps;\n",
              "\n",
              "  return _uploadFilesContinue(outputId);\n",
              "}\n",
              "\n",
              "// This is roughly an async generator (not supported in the browser yet),\n",
              "// where there are multiple asynchronous steps and the Python side is going\n",
              "// to poll for completion of each step.\n",
              "// This uses a Promise to block the python side on completion of each step,\n",
              "// then passes the result of the previous step as the input to the next step.\n",
              "function _uploadFilesContinue(outputId) {\n",
              "  const outputElement = document.getElementById(outputId);\n",
              "  const steps = outputElement.steps;\n",
              "\n",
              "  const next = steps.next(outputElement.lastPromiseValue);\n",
              "  return Promise.resolve(next.value.promise).then((value) => {\n",
              "    // Cache the last promise value to make it available to the next\n",
              "    // step of the generator.\n",
              "    outputElement.lastPromiseValue = value;\n",
              "    return next.value.response;\n",
              "  });\n",
              "}\n",
              "\n",
              "/**\n",
              " * Generator function which is called between each async step of the upload\n",
              " * process.\n",
              " * @param {string} inputId Element ID of the input file picker element.\n",
              " * @param {string} outputId Element ID of the output display.\n",
              " * @return {!Iterable<!Object>} Iterable of next steps.\n",
              " */\n",
              "function* uploadFilesStep(inputId, outputId) {\n",
              "  const inputElement = document.getElementById(inputId);\n",
              "  inputElement.disabled = false;\n",
              "\n",
              "  const outputElement = document.getElementById(outputId);\n",
              "  outputElement.innerHTML = '';\n",
              "\n",
              "  const pickedPromise = new Promise((resolve) => {\n",
              "    inputElement.addEventListener('change', (e) => {\n",
              "      resolve(e.target.files);\n",
              "    });\n",
              "  });\n",
              "\n",
              "  const cancel = document.createElement('button');\n",
              "  inputElement.parentElement.appendChild(cancel);\n",
              "  cancel.textContent = 'Cancel upload';\n",
              "  const cancelPromise = new Promise((resolve) => {\n",
              "    cancel.onclick = () => {\n",
              "      resolve(null);\n",
              "    };\n",
              "  });\n",
              "\n",
              "  // Wait for the user to pick the files.\n",
              "  const files = yield {\n",
              "    promise: Promise.race([pickedPromise, cancelPromise]),\n",
              "    response: {\n",
              "      action: 'starting',\n",
              "    }\n",
              "  };\n",
              "\n",
              "  cancel.remove();\n",
              "\n",
              "  // Disable the input element since further picks are not allowed.\n",
              "  inputElement.disabled = true;\n",
              "\n",
              "  if (!files) {\n",
              "    return {\n",
              "      response: {\n",
              "        action: 'complete',\n",
              "      }\n",
              "    };\n",
              "  }\n",
              "\n",
              "  for (const file of files) {\n",
              "    const li = document.createElement('li');\n",
              "    li.append(span(file.name, {fontWeight: 'bold'}));\n",
              "    li.append(span(\n",
              "        `(${file.type || 'n/a'}) - ${file.size} bytes, ` +\n",
              "        `last modified: ${\n",
              "            file.lastModifiedDate ? file.lastModifiedDate.toLocaleDateString() :\n",
              "                                    'n/a'} - `));\n",
              "    const percent = span('0% done');\n",
              "    li.appendChild(percent);\n",
              "\n",
              "    outputElement.appendChild(li);\n",
              "\n",
              "    const fileDataPromise = new Promise((resolve) => {\n",
              "      const reader = new FileReader();\n",
              "      reader.onload = (e) => {\n",
              "        resolve(e.target.result);\n",
              "      };\n",
              "      reader.readAsArrayBuffer(file);\n",
              "    });\n",
              "    // Wait for the data to be ready.\n",
              "    let fileData = yield {\n",
              "      promise: fileDataPromise,\n",
              "      response: {\n",
              "        action: 'continue',\n",
              "      }\n",
              "    };\n",
              "\n",
              "    // Use a chunked sending to avoid message size limits. See b/62115660.\n",
              "    let position = 0;\n",
              "    do {\n",
              "      const length = Math.min(fileData.byteLength - position, MAX_PAYLOAD_SIZE);\n",
              "      const chunk = new Uint8Array(fileData, position, length);\n",
              "      position += length;\n",
              "\n",
              "      const base64 = btoa(String.fromCharCode.apply(null, chunk));\n",
              "      yield {\n",
              "        response: {\n",
              "          action: 'append',\n",
              "          file: file.name,\n",
              "          data: base64,\n",
              "        },\n",
              "      };\n",
              "\n",
              "      let percentDone = fileData.byteLength === 0 ?\n",
              "          100 :\n",
              "          Math.round((position / fileData.byteLength) * 100);\n",
              "      percent.textContent = `${percentDone}% done`;\n",
              "\n",
              "    } while (position < fileData.byteLength);\n",
              "  }\n",
              "\n",
              "  // All done.\n",
              "  yield {\n",
              "    response: {\n",
              "      action: 'complete',\n",
              "    }\n",
              "  };\n",
              "}\n",
              "\n",
              "scope.google = scope.google || {};\n",
              "scope.google.colab = scope.google.colab || {};\n",
              "scope.google.colab._files = {\n",
              "  _uploadFiles,\n",
              "  _uploadFilesContinue,\n",
              "};\n",
              "})(self);\n",
              "</script> "
            ]
          },
          "metadata": {}
        },
        {
          "output_type": "stream",
          "name": "stdout",
          "text": [
            "Saving brasileirao-2023.json to brasileirao-2023.json\n"
          ]
        }
      ]
    },
    {
      "cell_type": "code",
      "source": [
        "import json\n",
        "\n",
        "with open('brasileirao-2023.json', 'r', encoding='utf-8') as f:\n",
        "    dados = json.load(f)\n"
      ],
      "metadata": {
        "id": "kq-NUrv5h7gs"
      },
      "execution_count": 7,
      "outputs": []
    },
    {
      "cell_type": "code",
      "source": [
        "print(type(dados))\n"
      ],
      "metadata": {
        "colab": {
          "base_uri": "https://localhost:8080/"
        },
        "id": "LUopclOpgHpm",
        "outputId": "56562d9c-4d51-44e0-d820-c2a0f366b280"
      },
      "execution_count": 8,
      "outputs": [
        {
          "output_type": "stream",
          "name": "stdout",
          "text": [
            "<class 'dict'>\n"
          ]
        }
      ]
    },
    {
      "cell_type": "code",
      "source": [
        "print(dados.keys())\n"
      ],
      "metadata": {
        "colab": {
          "base_uri": "https://localhost:8080/"
        },
        "id": "2i1YUwJ9gXKz",
        "outputId": "fa40ed7c-3cd4-445f-841f-74d62ba4ae0a"
      },
      "execution_count": 9,
      "outputs": [
        {
          "output_type": "stream",
          "name": "stdout",
          "text": [
            "dict_keys(['1', '2', '3', '4', '5', '6', '7', '8', '9', '10', '11', '12', '13', '14', '15', '16', '17', '18', '19', '20', '21', '22', '23', '24', '25', '26', '27', '28', '29', '30', '31', '32', '33', '34', '35', '36', '37', '38'])\n"
          ]
        }
      ]
    },
    {
      "cell_type": "code",
      "source": [
        "import json\n",
        "print(json.dumps(dados['1'][0], indent=2, ensure_ascii=False))\n"
      ],
      "metadata": {
        "colab": {
          "base_uri": "https://localhost:8080/"
        },
        "id": "Cm6AQKSohKRC",
        "outputId": "fdd8f1e9-eed8-4f75-c49e-cdd6398a3bee"
      },
      "execution_count": 10,
      "outputs": [
        {
          "output_type": "stream",
          "name": "stdout",
          "text": [
            "{\n",
            "  \"clubs\": {\n",
            "    \"home\": \"Palmeiras\",\n",
            "    \"away\": \"Cuiabá\"\n",
            "  },\n",
            "  \"goals\": {\n",
            "    \"home\": \"2\",\n",
            "    \"away\": \"1\"\n",
            "  },\n",
            "  \"cards\": {\n",
            "    \"home\": {\n",
            "      \"yellow\": [\n",
            "        {\n",
            "          \"time\": \"66'\",\n",
            "          \"player\": \"Jhonatan dos Santos Rosa\",\n",
            "          \"position\": \"Meio-campo\",\n",
            "          \"number\": \"40\"\n",
            "        },\n",
            "        {\n",
            "          \"time\": \"37'\",\n",
            "          \"player\": \"José Manuel Alberto López\",\n",
            "          \"position\": \"Meio-campo\",\n",
            "          \"number\": \"18\"\n",
            "        }\n",
            "      ],\n",
            "      \"red\": []\n",
            "    },\n",
            "    \"away\": {\n",
            "      \"yellow\": [\n",
            "        {\n",
            "          \"time\": \"52'\",\n",
            "          \"player\": \"Filipe Augusto Carvalho Souza\",\n",
            "          \"position\": \"Meio-campo\",\n",
            "          \"number\": \"5\"\n",
            "        },\n",
            "        {\n",
            "          \"time\": \"48'\",\n",
            "          \"player\": \"Mateusinho\",\n",
            "          \"position\": \"Zagueiro\",\n",
            "          \"number\": \"98\"\n",
            "        },\n",
            "        {\n",
            "          \"time\": \"45+4'\",\n",
            "          \"player\": \"Jonathan Cafú\",\n",
            "          \"position\": \"Meio-campo\",\n",
            "          \"number\": \"7\"\n",
            "        },\n",
            "        {\n",
            "          \"time\": \"6'\",\n",
            "          \"player\": \"Deyverson\",\n",
            "          \"position\": \"Atacante\",\n",
            "          \"number\": \"16\"\n",
            "        }\n",
            "      ],\n",
            "      \"red\": [\n",
            "        {\n",
            "          \"time\": \"57'\",\n",
            "          \"player\": \"Filipe Augusto Carvalho Souza\",\n",
            "          \"position\": \"Meio-campo\",\n",
            "          \"number\": \"5\"\n",
            "        }\n",
            "      ]\n",
            "    }\n",
            "  },\n",
            "  \"hour\": \"16:01\",\n",
            "  \"date\": \"15/04/23\",\n",
            "  \"coach\": {\n",
            "    \"home\": \"A. Moreira Ferreira\",\n",
            "    \"away\": \"I. Abreu Vieira\"\n",
            "  },\n",
            "  \"formation\": {\n",
            "    \"home\": \"4-2-3-1\",\n",
            "    \"away\": \"4-2-3-1\"\n",
            "  },\n",
            "  \"goalsPlayer\": {\n",
            "    \"home\": [\n",
            "      {\n",
            "        \"player\": \"Endrick\",\n",
            "        \"gols\": [\n",
            "          \"5'\"\n",
            "        ]\n",
            "      },\n",
            "      {\n",
            "        \"player\": \"José Manuel Alberto López\",\n",
            "        \"gols\": [\n",
            "          \"65'\"\n",
            "        ]\n",
            "      }\n",
            "    ],\n",
            "    \"away\": [\n",
            "      {\n",
            "        \"player\": \"Raniele\",\n",
            "        \"gols\": [\n",
            "          \"45+7'\"\n",
            "        ]\n",
            "      }\n",
            "    ]\n",
            "  },\n",
            "  \"stadium\": \"Allianz Parque\",\n",
            "  \"stats\": [\n",
            "    {\n",
            "      \"home\": \"17\",\n",
            "      \"stat\": \"Chutes\",\n",
            "      \"away\": \"12\"\n",
            "    },\n",
            "    {\n",
            "      \"home\": \"5\",\n",
            "      \"stat\": \"Chutes a gol\",\n",
            "      \"away\": \"4\"\n",
            "    },\n",
            "    {\n",
            "      \"home\": \"52%\",\n",
            "      \"stat\": \"Posse de bola\",\n",
            "      \"away\": \"48%\"\n",
            "    },\n",
            "    {\n",
            "      \"home\": \"455\",\n",
            "      \"stat\": \"Passes\",\n",
            "      \"away\": \"427\"\n",
            "    },\n",
            "    {\n",
            "      \"home\": \"84%\",\n",
            "      \"stat\": \"Precisão de passe\",\n",
            "      \"away\": \"79%\"\n",
            "    },\n",
            "    {\n",
            "      \"home\": \"23\",\n",
            "      \"stat\": \"Faltas\",\n",
            "      \"away\": \"12\"\n",
            "    },\n",
            "    {\n",
            "      \"home\": \"2\",\n",
            "      \"stat\": \"Cartões amarelos\",\n",
            "      \"away\": \"3\"\n",
            "    },\n",
            "    {\n",
            "      \"home\": \"0\",\n",
            "      \"stat\": \"Cartões vermelhos\",\n",
            "      \"away\": \"1\"\n",
            "    },\n",
            "    {\n",
            "      \"home\": \"3\",\n",
            "      \"stat\": \"Impedimentos\",\n",
            "      \"away\": \"2\"\n",
            "    },\n",
            "    {\n",
            "      \"home\": \"4\",\n",
            "      \"stat\": \"Escanteios\",\n",
            "      \"away\": \"4\"\n",
            "    }\n",
            "  ]\n",
            "}\n"
          ]
        }
      ]
    },
    {
      "cell_type": "code",
      "source": [
        "tecnicos = set()\n",
        "\n",
        "for rodada in dados.values():  # percorre as 38 rodadas\n",
        "    for jogo in rodada:        # percorre os jogos da rodada\n",
        "        tecnico_home = jogo.get('coach', {}).get('home')\n",
        "        tecnico_away = jogo.get('coach', {}).get('away')\n",
        "\n",
        "        if tecnico_home:\n",
        "            tecnicos.add(tecnico_home)\n",
        "        if tecnico_away:\n",
        "            tecnicos.add(tecnico_away)\n",
        "\n",
        "# Exibição dos técnicos em ordem alfabética\n",
        "for nome in sorted(tecnicos):\n",
        "    print(nome)\n"
      ],
      "metadata": {
        "colab": {
          "base_uri": "https://localhost:8080/"
        },
        "id": "Zed4Aoxihqfp",
        "outputId": "8637bd37-bf80-4e08-ad60-7801c8ab09fe"
      },
      "execution_count": 11,
      "outputs": [
        {
          "output_type": "stream",
          "name": "stdout",
          "text": [
            "A. Bacchi\n",
            "A. C. Pracidelli\n",
            "A. Cardoso de Oliveira\n",
            "A. Evangelista Macedo Freitas\n",
            "A. Ferreira\n",
            "A. Moreira Ferreira\n",
            "A. P. Mendes\n",
            "A. Stival\n",
            "A. Zago\n",
            "B. Lazaroni\n",
            "B. Nascimento\n",
            "C. Maldonado\n",
            "C. Salenave Santiago\n",
            "C. da Silva\n",
            "D. Aguirre Camblor\n",
            "D. Giacomini\n",
            "D. Silvestre Júnior\n",
            "Danilo\n",
            "E. Coudet\n",
            "E. Rodrigues de Ávila\n",
            "E. de Barros\n",
            "F. Bustos\n",
            "F. Diniz Silva\n",
            "F. Lázaro Rodrigues Alves\n",
            "F. Paiva Endres\n",
            "F. Seabra\n",
            "G. Dalzotto Bossle\n",
            "I. Abreu Vieira\n",
            "J. M. Barreto Martins\n",
            "J. Mannarino\n",
            "J. Sampaoli Moya\n",
            "J. Vojvoda\n",
            "L. Campos Borges\n",
            "L. De Souza\n",
            "L. Flávio\n",
            "L. González\n",
            "L. Iubel\n",
            "L. Ribeiro de Castro\n",
            "L. Scolari\n",
            "L. Silvestre\n",
            "L. Venker de Menezes\n",
            "M. Fernandes\n",
            "M. Henrique\n",
            "M. J\n",
            "M. Nogueira Barbieri\n",
            "O. Hellmann\n",
            "P. Autuori de Mello\n",
            "P. Faria Caixinha\n",
            "P. Marques da Costa Filipe\n",
            "P. Turra\n",
            "R. Alves Paiva\n",
            "R. Ceni\n",
            "R. Díaz\n",
            "R. I. do Nascimento\n",
            "Renato Gaúcho\n",
            "S. De Azevedo Correia\n",
            "S. Lobo\n",
            "T. Kosloski\n",
            "T. Retzalff Nunes\n",
            "V. Carmo Mancini\n",
            "V. Castanheira Penas\n",
            "V. Luxemburgo da Silva\n",
            "V. Severino\n",
            "W. Alves\n",
            "W. B. de Almeida\n",
            "W. Carvalho\n"
          ]
        }
      ]
    },
    {
      "cell_type": "code",
      "source": [
        "print(f\"Total de técnicos únicos: {len(tecnicos)}\")\n"
      ],
      "metadata": {
        "colab": {
          "base_uri": "https://localhost:8080/"
        },
        "id": "BYxuusgnjsKT",
        "outputId": "e84098bf-5037-4683-9546-5502bd9d45e1"
      },
      "execution_count": 12,
      "outputs": [
        {
          "output_type": "stream",
          "name": "stdout",
          "text": [
            "Total de técnicos únicos: 66\n"
          ]
        }
      ]
    }
  ]
}